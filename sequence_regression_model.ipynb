{
 "nbformat": 4,
 "nbformat_minor": 2,
 "metadata": {
  "language_info": {
   "name": "python",
   "codemirror_mode": {
    "name": "ipython",
    "version": 3
   },
   "version": "3.7.3-final"
  },
  "orig_nbformat": 2,
  "file_extension": ".py",
  "mimetype": "text/x-python",
  "name": "python",
  "npconvert_exporter": "python",
  "pygments_lexer": "ipython3",
  "version": 3,
  "kernelspec": {
   "name": "python3",
   "display_name": "Python 3"
  }
 },
 "cells": [
  {
   "cell_type": "markdown",
   "metadata": {},
   "source": [
    "<h2> Importing Important Packages "
   ]
  },
  {
   "cell_type": "code",
   "execution_count": 34,
   "metadata": {},
   "outputs": [],
   "source": [
    "from math import sqrt\n",
    "import numpy as np\n",
    "import pandas as pd\n",
    "import matplotlib.pyplot as plt\n",
    "import tensorflow as tf\n",
    "from tensorflow import keras\n",
    "from tensorflow.keras import layers\n",
    "from tensorflow.keras.wrappers.scikit_learn import KerasRegressor\n",
    "from sklearn.model_selection import cross_val_score\n",
    "from sklearn.model_selection import KFold"
   ]
  },
  {
   "cell_type": "markdown",
   "metadata": {},
   "source": [
    "<h2>Importing Dataset that already preprocessed"
   ]
  },
  {
   "cell_type": "code",
   "execution_count": 35,
   "metadata": {},
   "outputs": [
    {
     "output_type": "execute_result",
     "data": {
      "text/plain": "   Year-3  Year-2  Year-1  Target\n0  644642  643266  642120  661179\n1  643266  642120  661179  647198\n2  642120  661179  647198  621605\n3  661179  647198  621605  612393\n4  647198  621605  612393  654289",
      "text/html": "<div>\n<style scoped>\n    .dataframe tbody tr th:only-of-type {\n        vertical-align: middle;\n    }\n\n    .dataframe tbody tr th {\n        vertical-align: top;\n    }\n\n    .dataframe thead th {\n        text-align: right;\n    }\n</style>\n<table border=\"1\" class=\"dataframe\">\n  <thead>\n    <tr style=\"text-align: right;\">\n      <th></th>\n      <th>Year-3</th>\n      <th>Year-2</th>\n      <th>Year-1</th>\n      <th>Target</th>\n    </tr>\n  </thead>\n  <tbody>\n    <tr>\n      <th>0</th>\n      <td>644642</td>\n      <td>643266</td>\n      <td>642120</td>\n      <td>661179</td>\n    </tr>\n    <tr>\n      <th>1</th>\n      <td>643266</td>\n      <td>642120</td>\n      <td>661179</td>\n      <td>647198</td>\n    </tr>\n    <tr>\n      <th>2</th>\n      <td>642120</td>\n      <td>661179</td>\n      <td>647198</td>\n      <td>621605</td>\n    </tr>\n    <tr>\n      <th>3</th>\n      <td>661179</td>\n      <td>647198</td>\n      <td>621605</td>\n      <td>612393</td>\n    </tr>\n    <tr>\n      <th>4</th>\n      <td>647198</td>\n      <td>621605</td>\n      <td>612393</td>\n      <td>654289</td>\n    </tr>\n  </tbody>\n</table>\n</div>"
     },
     "metadata": {},
     "execution_count": 35
    }
   ],
   "source": [
    "preprocessed_dataset = pd.read_csv(\n",
    "    \"data/preprocessed.csv\", names=['Year-3', 'Year-2', 'Year-1', 'Target'], sep=\",\" ,skiprows=[0])\n",
    "\n",
    "preprocessed_dataset.head()"
   ]
  },
  {
   "cell_type": "markdown",
   "metadata": {},
   "source": [
    "<h2> Split Dataset into 2 gourp (train and test test)"
   ]
  },
  {
   "cell_type": "code",
   "execution_count": 36,
   "metadata": {},
   "outputs": [],
   "source": [
    "train_data = preprocessed_dataset.sample(frac=0.9, random_state=0)\n",
    "test_data = preprocessed_dataset.drop(train_data.index)\n",
    "\n",
    "train_labels = train_data.pop('Target')\n",
    "test_labels = test_data.pop('Target')"
   ]
  },
  {
   "cell_type": "markdown",
   "metadata": {},
   "source": [
    "<h2> make Modeling function"
   ]
  },
  {
   "cell_type": "code",
   "execution_count": 37,
   "metadata": {},
   "outputs": [],
   "source": [
    "def build_model():\n",
    "    model = keras.Sequential([\n",
    "        layers.Dense(13, input_dim=3, kernel_initializer='normal', activation='relu'),\n",
    "        layers.Dense(13, kernel_initializer='normal', activation='relu'),\n",
    "        layers.Dense(1, kernel_initializer='normal')\n",
    "    ])\n",
    "\n",
    "    optimizer = tf.optimizers.RMSprop(0.001)\n",
    "\n",
    "    model.compile(loss='mse', optimizer=optimizer, metrics=['mae', 'mse'])\n",
    "\n",
    "    return model"
   ]
  },
  {
   "cell_type": "code",
   "execution_count": 38,
   "metadata": {},
   "outputs": [
    {
     "output_type": "stream",
     "name": "stdout",
     "text": "Model: \"sequential_12\"\n_________________________________________________________________\nLayer (type)                 Output Shape              Param #   \n=================================================================\ndense_36 (Dense)             (None, 13)                52        \n_________________________________________________________________\ndense_37 (Dense)             (None, 13)                182       \n_________________________________________________________________\ndense_38 (Dense)             (None, 1)                 14        \n=================================================================\nTotal params: 248\nTrainable params: 248\nNon-trainable params: 0\n_________________________________________________________________\n"
    }
   ],
   "source": [
    "model = build_model()\n",
    "\n",
    "model.summary()"
   ]
  },
  {
   "cell_type": "markdown",
   "metadata": {},
   "source": [
    "<h2>Train model using k-10 fold validation"
   ]
  },
  {
   "cell_type": "code",
   "execution_count": 39,
   "metadata": {},
   "outputs": [
    {
     "output_type": "stream",
     "name": "stdout",
     "text": "Results: -1568721947.30 (1509460527.23) MSE\n"
    }
   ],
   "source": [
    "kfold = KFold(n_splits=10)\n",
    "\n",
    "estimator = KerasRegressor(build_fn=build_model, epochs=1000, batch_size=5, verbose=0)\n",
    "results = cross_val_score(estimator, train_data, train_labels, cv=kfold)\n",
    "print(\"Results: %.2f (%.2f) MSE\" % (results.mean(), results.std()))"
   ]
  },
  {
   "cell_type": "code",
   "execution_count": 40,
   "metadata": {},
   "outputs": [
    {
     "output_type": "stream",
     "name": "stdout",
     "text": "[-1.20092595e+09 -2.70398176e+08 -5.04269280e+08 -2.73164134e+09\n -2.52023117e+09 -1.03136064e+08 -9.20863168e+08 -5.01043354e+09\n -2.41814374e+09 -7.17704100e+06]\n"
    }
   ],
   "source": [
    "print(results)\n",
    "estimator.fit(train_data, train_labels)\n",
    "prediction = estimator.predict(test_data)"
   ]
  },
  {
   "cell_type": "code",
   "execution_count": 41,
   "metadata": {},
   "outputs": [
    {
     "output_type": "stream",
     "name": "stdout",
     "text": "<class 'pandas.core.series.Series'>\n<class 'numpy.ndarray'>\n"
    }
   ],
   "source": [
    "print(type(test_labels))\n",
    "print(type(prediction))"
   ]
  },
  {
   "cell_type": "markdown",
   "metadata": {},
   "source": [
    "<h2> Predict test data"
   ]
  },
  {
   "cell_type": "code",
   "execution_count": 42,
   "metadata": {},
   "outputs": [
    {
     "output_type": "execute_result",
     "data": {
      "text/plain": "    Prediction  Actual\n0  731872.3125  798232\n1  859657.4375  842934",
      "text/html": "<div>\n<style scoped>\n    .dataframe tbody tr th:only-of-type {\n        vertical-align: middle;\n    }\n\n    .dataframe tbody tr th {\n        vertical-align: top;\n    }\n\n    .dataframe thead th {\n        text-align: right;\n    }\n</style>\n<table border=\"1\" class=\"dataframe\">\n  <thead>\n    <tr style=\"text-align: right;\">\n      <th></th>\n      <th>Prediction</th>\n      <th>Actual</th>\n    </tr>\n  </thead>\n  <tbody>\n    <tr>\n      <th>0</th>\n      <td>731872.3125</td>\n      <td>798232</td>\n    </tr>\n    <tr>\n      <th>1</th>\n      <td>859657.4375</td>\n      <td>842934</td>\n    </tr>\n  </tbody>\n</table>\n</div>"
     },
     "metadata": {},
     "execution_count": 42
    }
   ],
   "source": [
    "predicted_vs_actual = pd.DataFrame(list(zip(prediction, test_labels.tolist())), \n",
    "                columns =['Prediction','Actual'])\n",
    "\n",
    "predicted_vs_actual"
   ]
  },
  {
   "cell_type": "code",
   "execution_count": null,
   "metadata": {},
   "outputs": [],
   "source": []
  }
 ]
}