{
 "cells": [
  {
   "cell_type": "markdown",
   "metadata": {},
   "source": [
    "<h2> Importing Important Packages "
   ]
  },
  {
   "cell_type": "code",
   "execution_count": 1,
   "metadata": {},
   "outputs": [],
   "source": [
    "import numpy as np\n",
    "import pandas as pd\n",
    "import matplotlib.pyplot as plt\n",
    "import tensorflow as tf\n",
    "from tensorflow import keras\n",
    "from tensorflow.keras import layers"
   ]
  },
  {
   "cell_type": "markdown",
   "metadata": {},
   "source": [
    "<h2>Importing Dataset that already preprocessed"
   ]
  },
  {
   "cell_type": "code",
   "execution_count": 2,
   "metadata": {},
   "outputs": [
    {
     "name": "stderr",
     "output_type": "stream",
     "text": [
      "/home/cdjodistiara/anaconda3/envs/tf-keras/lib/python3.7/site-packages/pandas/core/frame.py:3997: SettingWithCopyWarning: \n",
      "A value is trying to be set on a copy of a slice from a DataFrame\n",
      "\n",
      "See the caveats in the documentation: https://pandas.pydata.org/pandas-docs/stable/user_guide/indexing.html#returning-a-view-versus-a-copy\n",
      "  errors=errors,\n"
     ]
    },
    {
     "data": {
      "text/html": [
       "<div>\n",
       "<style scoped>\n",
       "    .dataframe tbody tr th:only-of-type {\n",
       "        vertical-align: middle;\n",
       "    }\n",
       "\n",
       "    .dataframe tbody tr th {\n",
       "        vertical-align: top;\n",
       "    }\n",
       "\n",
       "    .dataframe thead th {\n",
       "        text-align: right;\n",
       "    }\n",
       "</style>\n",
       "<table border=\"1\" class=\"dataframe\">\n",
       "  <thead>\n",
       "    <tr style=\"text-align: right;\">\n",
       "      <th></th>\n",
       "      <th>0</th>\n",
       "      <th>1</th>\n",
       "      <th>2</th>\n",
       "      <th>3</th>\n",
       "      <th>4</th>\n",
       "      <th>5</th>\n",
       "    </tr>\n",
       "  </thead>\n",
       "  <tbody>\n",
       "    <tr>\n",
       "      <th>0</th>\n",
       "      <td>644642</td>\n",
       "      <td>643266</td>\n",
       "      <td>642120</td>\n",
       "      <td>661179</td>\n",
       "      <td>647198</td>\n",
       "      <td>621605</td>\n",
       "    </tr>\n",
       "    <tr>\n",
       "      <th>1</th>\n",
       "      <td>643266</td>\n",
       "      <td>642120</td>\n",
       "      <td>661179</td>\n",
       "      <td>647198</td>\n",
       "      <td>621605</td>\n",
       "      <td>612393</td>\n",
       "    </tr>\n",
       "    <tr>\n",
       "      <th>2</th>\n",
       "      <td>642120</td>\n",
       "      <td>661179</td>\n",
       "      <td>647198</td>\n",
       "      <td>621605</td>\n",
       "      <td>612393</td>\n",
       "      <td>654289</td>\n",
       "    </tr>\n",
       "    <tr>\n",
       "      <th>3</th>\n",
       "      <td>661179</td>\n",
       "      <td>647198</td>\n",
       "      <td>621605</td>\n",
       "      <td>612393</td>\n",
       "      <td>654289</td>\n",
       "      <td>661802</td>\n",
       "    </tr>\n",
       "    <tr>\n",
       "      <th>4</th>\n",
       "      <td>647198</td>\n",
       "      <td>621605</td>\n",
       "      <td>612393</td>\n",
       "      <td>654289</td>\n",
       "      <td>661802</td>\n",
       "      <td>653577</td>\n",
       "    </tr>\n",
       "  </tbody>\n",
       "</table>\n",
       "</div>"
      ],
      "text/plain": [
       "        0       1       2       3       4       5\n",
       "0  644642  643266  642120  661179  647198  621605\n",
       "1  643266  642120  661179  647198  621605  612393\n",
       "2  642120  661179  647198  621605  612393  654289\n",
       "3  661179  647198  621605  612393  654289  661802\n",
       "4  647198  621605  612393  654289  661802  653577"
      ]
     },
     "execution_count": 2,
     "metadata": {},
     "output_type": "execute_result"
    }
   ],
   "source": [
    "path_to_file = 'data/padi.csv'\n",
    "province = 'DI YOGYAKARTA'\n",
    "sliding_window = 5\n",
    "train_test_proportion = 0.8\n",
    "\n",
    "from preprocessing import preprocess\n",
    "\n",
    "data = pd.read_csv(path_to_file)\n",
    "preprocessed = preprocess(data[data['Provinsi'] == province],\\\n",
    "                            sliding_window)\n",
    "\n",
    "preprocessed.head()"
   ]
  },
  {
   "cell_type": "markdown",
   "metadata": {},
   "source": [
    "<h2> Split Dataset into 2 gourp (train and test test)"
   ]
  },
  {
   "cell_type": "code",
   "execution_count": 3,
   "metadata": {},
   "outputs": [],
   "source": [
    "train_data = preprocessed[:int(train_test_proportion*preprocessed.shape[0])]\n",
    "test_data = preprocessed.drop(train_data.index)\n",
    "\n",
    "train_labels = train_data.pop(train_data.columns[-1])\n",
    "test_labels = test_data.pop(test_data.columns[-1])"
   ]
  },
  {
   "cell_type": "markdown",
   "metadata": {},
   "source": [
    "<h2> make Modeling function"
   ]
  },
  {
   "cell_type": "code",
   "execution_count": 13,
   "metadata": {},
   "outputs": [],
   "source": [
    "def build_model():\n",
    "    model = keras.Sequential([\n",
    "        layers.Dense(2, activation=tf.nn.relu,\n",
    "                     input_shape=[len(train_data.keys())]),\n",
    "        layers.Dense(5, activation=tf.nn.relu),\n",
    "        layers.Dense(1)\n",
    "    ])\n",
    "\n",
    "    optimizer = tf.keras.optimizers.Adam(learning_rate=0.001)\n",
    "\n",
    "    model.compile(loss='mae', optimizer='adam', metrics=['mse'])\n",
    "\n",
    "    return model"
   ]
  },
  {
   "cell_type": "code",
   "execution_count": 14,
   "metadata": {},
   "outputs": [
    {
     "name": "stdout",
     "output_type": "stream",
     "text": [
      "Model: \"sequential_1\"\n",
      "_________________________________________________________________\n",
      "Layer (type)                 Output Shape              Param #   \n",
      "=================================================================\n",
      "dense_3 (Dense)              (None, 2)                 12        \n",
      "_________________________________________________________________\n",
      "dense_4 (Dense)              (None, 5)                 15        \n",
      "_________________________________________________________________\n",
      "dense_5 (Dense)              (None, 1)                 6         \n",
      "=================================================================\n",
      "Total params: 33\n",
      "Trainable params: 33\n",
      "Non-trainable params: 0\n",
      "_________________________________________________________________\n"
     ]
    }
   ],
   "source": [
    "tf.random.set_seed(28)\n",
    "\n",
    "model = build_model()\n",
    "\n",
    "model.summary()"
   ]
  },
  {
   "cell_type": "markdown",
   "metadata": {},
   "source": [
    "<h2> Train Regression model "
   ]
  },
  {
   "cell_type": "code",
   "execution_count": 23,
   "metadata": {},
   "outputs": [
    {
     "name": "stdout",
     "output_type": "stream",
     "text": [
      "Train on 11 samples, validate on 3 samples\n",
      "Epoch 1/1000\n",
      "11/11 [==============================] - 0s 858us/sample - loss: 32729.9883 - mse: 1674335872.0000 - val_loss: 88973.7734 - val_mse: 7953558016.0000\n",
      "Epoch 2/1000\n",
      "11/11 [==============================] - 0s 683us/sample - loss: 32113.5508 - mse: 1652592256.0000 - val_loss: 91631.8750 - val_mse: 8433244672.0000\n",
      "Epoch 3/1000\n",
      "11/11 [==============================] - 0s 784us/sample - loss: 31900.3242 - mse: 1641903232.0000 - val_loss: 94125.8984 - val_mse: 8896177152.0000\n",
      "Epoch 4/1000\n",
      "11/11 [==============================] - 0s 732us/sample - loss: 31707.4082 - mse: 1642318592.0000 - val_loss: 96472.3359 - val_mse: 9343078400.0000\n",
      "Epoch 5/1000\n",
      "11/11 [==============================] - 0s 1ms/sample - loss: 31525.7949 - mse: 1651938816.0000 - val_loss: 98685.8359 - val_mse: 9774756864.0000\n",
      "Epoch 6/1000\n",
      "11/11 [==============================] - 0s 675us/sample - loss: 31354.3750 - mse: 1669224960.0000 - val_loss: 100779.7109 - val_mse: 10192131072.0000\n",
      "Epoch 7/1000\n",
      "11/11 [==============================] - 0s 599us/sample - loss: 31192.1074 - mse: 1692912768.0000 - val_loss: 102765.8359 - val_mse: 10596134912.0000\n",
      "Epoch 8/1000\n",
      "11/11 [==============================] - 0s 925us/sample - loss: 31038.1367 - mse: 1721980032.0000 - val_loss: 104654.9375 - val_mse: 10987727872.0000\n",
      "Epoch 9/1000\n",
      "11/11 [==============================] - 0s 800us/sample - loss: 30891.5742 - mse: 1755587712.0000 - val_loss: 106456.8125 - val_mse: 11367890944.0000\n",
      "Epoch 10/1000\n",
      "11/11 [==============================] - 0s 1ms/sample - loss: 30977.8750 - mse: 1793056768.0000 - val_loss: 107974.5859 - val_mse: 11693157376.0000\n",
      "Epoch 11/1000\n",
      "11/11 [==============================] - 0s 573us/sample - loss: 31104.3691 - mse: 1828732160.0000 - val_loss: 109236.3359 - val_mse: 11967066112.0000\n",
      "Epoch 12/1000\n",
      "11/11 [==============================] - 0s 785us/sample - loss: 31209.4199 - mse: 1861252992.0000 - val_loss: 110267.0859 - val_mse: 12193195008.0000\n",
      "Epoch 13/1000\n",
      "11/11 [==============================] - 0s 2ms/sample - loss: 31295.1699 - mse: 1889757568.0000 - val_loss: 111089.6016 - val_mse: 12375171072.0000\n",
      "Epoch 14/1000\n",
      "11/11 [==============================] - 0s 960us/sample - loss: 31363.5000 - mse: 1913758080.0000 - val_loss: 111724.0391 - val_mse: 12516461568.0000\n",
      "Epoch 15/1000\n",
      "11/11 [==============================] - 0s 2ms/sample - loss: 31416.0859 - mse: 1933036672.0000 - val_loss: 112188.4375 - val_mse: 12620398592.0000\n",
      "Epoch 16/1000\n",
      "11/11 [==============================] - 0s 2ms/sample - loss: 31454.4707 - mse: 1947582336.0000 - val_loss: 112499.2109 - val_mse: 12690198528.0000\n",
      "Epoch 17/1000\n",
      "11/11 [==============================] - 0s 1ms/sample - loss: 31480.0059 - mse: 1957533568.0000 - val_loss: 112671.0859 - val_mse: 12728890368.0000\n",
      "Epoch 18/1000\n",
      "11/11 [==============================] - 0s 647us/sample - loss: 31493.9141 - mse: 1963131776.0000 - val_loss: 112717.1875 - val_mse: 12739290112.0000\n",
      "Epoch 19/1000\n",
      "11/11 [==============================] - 0s 1ms/sample - loss: 31497.3516 - mse: 1964686080.0000 - val_loss: 112649.5000 - val_mse: 12724060160.0000\n",
      "Epoch 20/1000\n",
      "11/11 [==============================] - 0s 1ms/sample - loss: 31491.2207 - mse: 1962549760.0000 - val_loss: 112478.5625 - val_mse: 12685615104.0000\n",
      "Epoch 21/1000\n",
      "11/11 [==============================] - 0s 1ms/sample - loss: 31476.4824 - mse: 1957100800.0000 - val_loss: 112214.1641 - val_mse: 12626255872.0000\n",
      "Epoch 22/1000\n",
      "11/11 [==============================] - 0s 940us/sample - loss: 31453.9141 - mse: 1948728064.0000 - val_loss: 111864.8125 - val_mse: 12548034560.0000\n",
      "Epoch 23/1000\n",
      "11/11 [==============================] - 0s 1ms/sample - loss: 31424.2617 - mse: 1937825024.0000 - val_loss: 111438.4609 - val_mse: 12452900864.0000\n",
      "Epoch 24/1000\n",
      "11/11 [==============================] - 0s 819us/sample - loss: 31388.1582 - mse: 1924765184.0000 - val_loss: 110942.0000 - val_mse: 12342579200.0000\n",
      "Epoch 25/1000\n",
      "11/11 [==============================] - 0s 706us/sample - loss: 31346.1992 - mse: 1909920512.0000 - val_loss: 110381.8750 - val_mse: 12218700800.0000\n",
      "Epoch 26/1000\n",
      "11/11 [==============================] - 0s 790us/sample - loss: 31298.8867 - mse: 1893635712.0000 - val_loss: 109763.6641 - val_mse: 12082703360.0000\n",
      "Epoch 27/1000\n",
      "11/11 [==============================] - 0s 2ms/sample - loss: 31246.7266 - mse: 1876246144.0000 - val_loss: 109092.7109 - val_mse: 11935966208.0000\n",
      "Epoch 28/1000\n",
      "11/11 [==============================] - 0s 2ms/sample - loss: 31190.1699 - mse: 1858062336.0000 - val_loss: 108373.3516 - val_mse: 11779644416.0000\n",
      "Epoch 29/1000\n",
      "11/11 [==============================] - 0s 1ms/sample - loss: 31129.5684 - mse: 1839373184.0000 - val_loss: 107610.0234 - val_mse: 11614896128.0000\n",
      "Epoch 30/1000\n",
      "11/11 [==============================] - 0s 2ms/sample - loss: 31065.2949 - mse: 1820448000.0000 - val_loss: 106806.4375 - val_mse: 11442719744.0000\n",
      "Epoch 31/1000\n",
      "11/11 [==============================] - 0s 2ms/sample - loss: 30997.6133 - mse: 1801532544.0000 - val_loss: 105965.8750 - val_mse: 11264001024.0000\n",
      "Epoch 32/1000\n",
      "11/11 [==============================] - 0s 1ms/sample - loss: 30926.8359 - mse: 1782862976.0000 - val_loss: 105091.4375 - val_mse: 11079581696.0000\n",
      "Epoch 33/1000\n",
      "11/11 [==============================] - 0s 2ms/sample - loss: 30853.2559 - mse: 1764647808.0000 - val_loss: 104185.9766 - val_mse: 10890231808.0000\n",
      "Epoch 34/1000\n",
      "11/11 [==============================] - 0s 2ms/sample - loss: 30903.8984 - mse: 1747082368.0000 - val_loss: 103474.7109 - val_mse: 10742644736.0000\n",
      "Epoch 35/1000\n",
      "11/11 [==============================] - 0s 946us/sample - loss: 30957.7266 - mse: 1734214016.0000 - val_loss: 102939.2891 - val_mse: 10632218624.0000\n",
      "Epoch 36/1000\n",
      "11/11 [==============================] - 0s 1ms/sample - loss: 30997.9609 - mse: 1725067776.0000 - val_loss: 102563.1641 - val_mse: 10554993664.0000\n",
      "Epoch 37/1000\n",
      "11/11 [==============================] - 0s 1ms/sample - loss: 31025.8984 - mse: 1718919680.0000 - val_loss: 102331.3516 - val_mse: 10507545600.0000\n",
      "Epoch 38/1000\n",
      "11/11 [==============================] - 0s 1ms/sample - loss: 31042.7051 - mse: 1715245824.0000 - val_loss: 102230.1016 - val_mse: 10486865920.0000\n",
      "Epoch 39/1000\n",
      "11/11 [==============================] - 0s 1ms/sample - loss: 31049.3691 - mse: 1713669760.0000 - val_loss: 102247.2266 - val_mse: 10490383360.0000\n",
      "Epoch 40/1000\n",
      "11/11 [==============================] - 0s 2ms/sample - loss: 31046.9609 - mse: 1713942016.0000 - val_loss: 102371.3359 - val_mse: 10515778560.0000\n",
      "Epoch 41/1000\n",
      "11/11 [==============================] - 0s 1ms/sample - loss: 31036.2500 - mse: 1715894272.0000 - val_loss: 102592.4141 - val_mse: 10561078272.0000\n",
      "Epoch 42/1000\n",
      "11/11 [==============================] - 0s 1ms/sample - loss: 31018.0801 - mse: 1719431168.0000 - val_loss: 102901.1484 - val_mse: 10624495616.0000\n",
      "Epoch 43/1000\n",
      "11/11 [==============================] - 0s 1ms/sample - loss: 30993.1309 - mse: 1724504192.0000 - val_loss: 103289.1641 - val_mse: 10704465920.0000\n",
      "Epoch 44/1000\n",
      "11/11 [==============================] - 0s 1ms/sample - loss: 30962.0625 - mse: 1731102208.0000 - val_loss: 103749.0859 - val_mse: 10799641600.0000\n",
      "Epoch 45/1000\n",
      "11/11 [==============================] - 0s 1ms/sample - loss: 30925.4082 - mse: 1739239936.0000 - val_loss: 104274.0000 - val_mse: 10908781568.0000\n",
      "Epoch 46/1000\n",
      "11/11 [==============================] - 0s 981us/sample - loss: 30883.7832 - mse: 1748953600.0000 - val_loss: 104857.7500 - val_mse: 11030799360.0000\n",
      "Epoch 47/1000\n",
      "11/11 [==============================] - 0s 1ms/sample - loss: 30837.5801 - mse: 1760286336.0000 - val_loss: 105494.7734 - val_mse: 11164728320.0000\n",
      "Epoch 48/1000\n",
      "11/11 [==============================] - 0s 1ms/sample - loss: 30879.0508 - mse: 1773289856.0000 - val_loss: 105948.8516 - val_mse: 11260697600.0000\n",
      "Epoch 49/1000\n",
      "11/11 [==============================] - 0s 1ms/sample - loss: 30916.4668 - mse: 1782973568.0000 - val_loss: 106237.7500 - val_mse: 11321975808.0000\n",
      "Epoch 50/1000\n",
      "11/11 [==============================] - 0s 1ms/sample - loss: 30940.0859 - mse: 1789325312.0000 - val_loss: 106377.2734 - val_mse: 11351639040.0000\n"
     ]
    },
    {
     "name": "stdout",
     "output_type": "stream",
     "text": [
      "Epoch 51/1000\n",
      "11/11 [==============================] - 0s 2ms/sample - loss: 30951.1992 - mse: 1792457472.0000 - val_loss: 106381.7500 - val_mse: 11352609792.0000\n",
      "Epoch 52/1000\n",
      "11/11 [==============================] - 0s 970us/sample - loss: 30951.0059 - mse: 1792588160.0000 - val_loss: 106264.0391 - val_mse: 11327614976.0000\n",
      "Epoch 53/1000\n",
      "11/11 [==============================] - 0s 1ms/sample - loss: 30940.6309 - mse: 1789999616.0000 - val_loss: 106035.6641 - val_mse: 11279180800.0000\n",
      "Epoch 54/1000\n",
      "11/11 [==============================] - 0s 708us/sample - loss: 30921.0000 - mse: 1785010048.0000 - val_loss: 105707.1250 - val_mse: 11209677824.0000\n",
      "Epoch 55/1000\n",
      "11/11 [==============================] - 0s 931us/sample - loss: 30892.9609 - mse: 1777958528.0000 - val_loss: 105287.6484 - val_mse: 11121246208.0000\n",
      "Epoch 56/1000\n",
      "11/11 [==============================] - 0s 1000us/sample - loss: 30857.3691 - mse: 1769201280.0000 - val_loss: 104785.7109 - val_mse: 11015890944.0000\n",
      "Epoch 57/1000\n",
      "11/11 [==============================] - 0s 862us/sample - loss: 30831.5859 - mse: 1759084928.0000 - val_loss: 104446.1250 - val_mse: 10944905216.0000\n",
      "Epoch 58/1000\n",
      "11/11 [==============================] - 0s 1ms/sample - loss: 30856.6250 - mse: 1752474496.0000 - val_loss: 104253.3516 - val_mse: 10904719360.0000\n",
      "Epoch 59/1000\n",
      "11/11 [==============================] - 0s 755us/sample - loss: 30870.2949 - mse: 1748812160.0000 - val_loss: 104193.6016 - val_mse: 10892292096.0000\n",
      "Epoch 60/1000\n",
      "11/11 [==============================] - 0s 836us/sample - loss: 30873.7441 - mse: 1747704576.0000 - val_loss: 104254.2109 - val_mse: 10904935424.0000\n",
      "Epoch 61/1000\n",
      "11/11 [==============================] - 0s 1ms/sample - loss: 30867.8809 - mse: 1748868736.0000 - val_loss: 104423.6250 - val_mse: 10940284928.0000\n",
      "Epoch 62/1000\n",
      "11/11 [==============================] - 0s 703us/sample - loss: 30853.6133 - mse: 1752126592.0000 - val_loss: 104691.5234 - val_mse: 10996286464.0000\n",
      "Epoch 63/1000\n",
      "11/11 [==============================] - 0s 972us/sample - loss: 30831.7500 - mse: 1757361408.0000 - val_loss: 105048.3984 - val_mse: 11071108096.0000\n",
      "Epoch 64/1000\n",
      "11/11 [==============================] - 0s 909us/sample - loss: 30832.8809 - mse: 1764515072.0000 - val_loss: 105244.4375 - val_mse: 11112326144.0000\n",
      "Epoch 65/1000\n",
      "11/11 [==============================] - 0s 693us/sample - loss: 30848.7051 - mse: 1768544640.0000 - val_loss: 105295.1484 - val_mse: 11123014656.0000\n",
      "Epoch 66/1000\n",
      "11/11 [==============================] - 0s 1ms/sample - loss: 30852.3984 - mse: 1769620352.0000 - val_loss: 105214.3516 - val_mse: 11106036736.0000\n",
      "Epoch 67/1000\n",
      "11/11 [==============================] - 0s 1ms/sample - loss: 30845.0566 - mse: 1767979904.0000 - val_loss: 105014.5391 - val_mse: 11064078336.0000\n",
      "Epoch 68/1000\n",
      "11/11 [==============================] - 0s 972us/sample - loss: 30827.7617 - mse: 1763928192.0000 - val_loss: 104707.0859 - val_mse: 10999659520.0000\n",
      "Epoch 69/1000\n",
      "11/11 [==============================] - 0s 1ms/sample - loss: 30823.3516 - mse: 1757806080.0000 - val_loss: 104546.6641 - val_mse: 10966132736.0000\n",
      "Epoch 70/1000\n",
      "11/11 [==============================] - 0s 884us/sample - loss: 30834.5332 - mse: 1754681344.0000 - val_loss: 104519.2266 - val_mse: 10960419840.0000\n",
      "Epoch 71/1000\n",
      "11/11 [==============================] - 0s 845us/sample - loss: 30835.4375 - mse: 1754170496.0000 - val_loss: 104612.0859 - val_mse: 10979845120.0000\n",
      "Epoch 72/1000\n",
      "11/11 [==============================] - 0s 2ms/sample - loss: 30827.0332 - mse: 1756007168.0000 - val_loss: 104813.8516 - val_mse: 11022093312.0000\n",
      "Epoch 73/1000\n",
      "11/11 [==============================] - 0s 1ms/sample - loss: 30810.2324 - mse: 1760020864.0000 - val_loss: 105114.0234 - val_mse: 11085083648.0000\n",
      "Epoch 74/1000\n",
      "11/11 [==============================] - 0s 1ms/sample - loss: 30832.6309 - mse: 1766108416.0000 - val_loss: 105255.6641 - val_mse: 11114882048.0000\n",
      "Epoch 75/1000\n",
      "11/11 [==============================] - 0s 637us/sample - loss: 30843.8984 - mse: 1769047168.0000 - val_loss: 105254.0625 - val_mse: 11114564608.0000\n",
      "Epoch 76/1000\n",
      "11/11 [==============================] - 0s 813us/sample - loss: 30843.1758 - mse: 1769039872.0000 - val_loss: 105122.9375 - val_mse: 11087016960.0000\n",
      "Epoch 77/1000\n",
      "11/11 [==============================] - 0s 1ms/sample - loss: 30831.6367 - mse: 1766370176.0000 - val_loss: 104874.5234 - val_mse: 11034905600.0000\n",
      "Epoch 78/1000\n",
      "11/11 [==============================] - 0s 671us/sample - loss: 30810.2832 - mse: 1761360000.0000 - val_loss: 104519.9609 - val_mse: 10960731136.0000\n",
      "Epoch 79/1000\n",
      "11/11 [==============================] - 0s 1ms/sample - loss: 30825.5449 - mse: 1754364800.0000 - val_loss: 104319.9141 - val_mse: 10919001088.0000\n",
      "Epoch 80/1000\n",
      "11/11 [==============================] - 0s 869us/sample - loss: 30839.7617 - mse: 1750519424.0000 - val_loss: 104259.7891 - val_mse: 10906489856.0000\n",
      "Epoch 81/1000\n",
      "11/11 [==============================] - 0s 1ms/sample - loss: 30843.1426 - mse: 1749388032.0000 - val_loss: 104326.1016 - val_mse: 10920332288.0000\n",
      "Epoch 82/1000\n",
      "11/11 [==============================] - 0s 793us/sample - loss: 30836.7832 - mse: 1750680448.0000 - val_loss: 104506.8359 - val_mse: 10958069760.0000\n",
      "Epoch 83/1000\n",
      "11/11 [==============================] - 0s 1ms/sample - loss: 30821.6074 - mse: 1754202880.0000 - val_loss: 104790.9141 - val_mse: 11017506816.0000\n",
      "Epoch 84/1000\n",
      "11/11 [==============================] - 0s 1ms/sample - loss: 30799.7676 - mse: 1759835648.0000 - val_loss: 104914.8125 - val_mse: 11043491840.0000\n",
      "Epoch 85/1000\n",
      "11/11 [==============================] - 0s 856us/sample - loss: 30809.5117 - mse: 1762349440.0000 - val_loss: 104893.9375 - val_mse: 11039134720.0000\n",
      "Epoch 86/1000\n",
      "11/11 [==============================] - 0s 781us/sample - loss: 30807.2051 - mse: 1761957760.0000 - val_loss: 104742.2891 - val_mse: 11007385600.0000\n",
      "Epoch 87/1000\n",
      "11/11 [==============================] - 0s 784us/sample - loss: 30798.4258 - mse: 1758943360.0000 - val_loss: 104727.5859 - val_mse: 11004326912.0000\n",
      "Epoch 88/1000\n",
      "11/11 [==============================] - 0s 950us/sample - loss: 30798.2891 - mse: 1758674816.0000 - val_loss: 104836.8984 - val_mse: 11027239936.0000\n",
      "Epoch 89/1000\n",
      "11/11 [==============================] - 0s 2ms/sample - loss: 30800.6367 - mse: 1760885888.0000 - val_loss: 104801.6016 - val_mse: 11019868160.0000\n",
      "Epoch 90/1000\n",
      "11/11 [==============================] - 0s 1ms/sample - loss: 30797.0859 - mse: 1760204032.0000 - val_loss: 104635.6250 - val_mse: 10985149440.0000\n",
      "Epoch 91/1000\n",
      "11/11 [==============================] - 0s 824us/sample - loss: 30801.5918 - mse: 1756923904.0000 - val_loss: 104609.2266 - val_mse: 10979650560.0000\n",
      "Epoch 92/1000\n",
      "11/11 [==============================] - 0s 946us/sample - loss: 30802.3516 - mse: 1756428800.0000 - val_loss: 104709.0391 - val_mse: 11000549376.0000\n",
      "Epoch 93/1000\n",
      "11/11 [==============================] - 0s 650us/sample - loss: 30793.3750 - mse: 1758432128.0000 - val_loss: 104922.9375 - val_mse: 11045379072.0000\n",
      "Epoch 94/1000\n",
      "11/11 [==============================] - 0s 2ms/sample - loss: 30804.8066 - mse: 1762753792.0000 - val_loss: 104980.5000 - val_mse: 11057474560.0000\n",
      "Epoch 95/1000\n",
      "11/11 [==============================] - 0s 819us/sample - loss: 30809.0176 - mse: 1763949056.0000 - val_loss: 104896.7500 - val_mse: 11039929344.0000\n",
      "Epoch 96/1000\n",
      "11/11 [==============================] - 0s 896us/sample - loss: 30801.4141 - mse: 1762278656.0000 - val_loss: 104685.1641 - val_mse: 10995635200.0000\n",
      "Epoch 97/1000\n",
      "11/11 [==============================] - 0s 953us/sample - loss: 30790.0684 - mse: 1758057728.0000 - val_loss: 104619.3750 - val_mse: 10981896192.0000\n",
      "Epoch 98/1000\n",
      "11/11 [==============================] - 0s 984us/sample - loss: 30793.8867 - mse: 1756778496.0000 - val_loss: 104685.3359 - val_mse: 10995712000.0000\n",
      "Epoch 99/1000\n",
      "11/11 [==============================] - 0s 790us/sample - loss: 30787.5117 - mse: 1758113280.0000 - val_loss: 104870.4609 - val_mse: 11034501120.0000\n",
      "Epoch 100/1000\n",
      "11/11 [==============================] - 0s 1ms/sample - loss: 30796.7793 - mse: 1761853824.0000 - val_loss: 104900.1484 - val_mse: 11040746496.0000\n"
     ]
    },
    {
     "name": "stdout",
     "output_type": "stream",
     "text": [
      "Epoch 101/1000\n",
      "11/11 [==============================] - 0s 717us/sample - loss: 30798.6426 - mse: 1762483328.0000 - val_loss: 104789.4609 - val_mse: 11017573376.0000\n"
     ]
    }
   ],
   "source": [
    "epochs = 1000\n",
    "early_stop = keras.callbacks.EarlyStopping(monitor='val_loss', patience=100)\n",
    "\n",
    "history = model.fit(train_data, train_labels, epochs=epochs, validation_split=0.2, verbose=1, callbacks=[early_stop])"
   ]
  },
  {
   "cell_type": "markdown",
   "metadata": {},
   "source": [
    "<h2> Plotting Training Process"
   ]
  },
  {
   "cell_type": "code",
   "execution_count": 16,
   "metadata": {},
   "outputs": [
    {
     "data": {
      "text/html": [
       "<div>\n",
       "<style scoped>\n",
       "    .dataframe tbody tr th:only-of-type {\n",
       "        vertical-align: middle;\n",
       "    }\n",
       "\n",
       "    .dataframe tbody tr th {\n",
       "        vertical-align: top;\n",
       "    }\n",
       "\n",
       "    .dataframe thead th {\n",
       "        text-align: right;\n",
       "    }\n",
       "</style>\n",
       "<table border=\"1\" class=\"dataframe\">\n",
       "  <thead>\n",
       "    <tr style=\"text-align: right;\">\n",
       "      <th></th>\n",
       "      <th>loss</th>\n",
       "      <th>mse</th>\n",
       "      <th>val_loss</th>\n",
       "      <th>val_mse</th>\n",
       "      <th>epoch</th>\n",
       "    </tr>\n",
       "  </thead>\n",
       "  <tbody>\n",
       "    <tr>\n",
       "      <th>142</th>\n",
       "      <td>35976.433594</td>\n",
       "      <td>1.924887e+09</td>\n",
       "      <td>76405.187500</td>\n",
       "      <td>5.876848e+09</td>\n",
       "      <td>142</td>\n",
       "    </tr>\n",
       "    <tr>\n",
       "      <th>143</th>\n",
       "      <td>35073.238281</td>\n",
       "      <td>1.858622e+09</td>\n",
       "      <td>78803.148438</td>\n",
       "      <td>6.248665e+09</td>\n",
       "      <td>143</td>\n",
       "    </tr>\n",
       "    <tr>\n",
       "      <th>144</th>\n",
       "      <td>34508.703125</td>\n",
       "      <td>1.799506e+09</td>\n",
       "      <td>81265.414062</td>\n",
       "      <td>6.642426e+09</td>\n",
       "      <td>144</td>\n",
       "    </tr>\n",
       "    <tr>\n",
       "      <th>145</th>\n",
       "      <td>33928.914062</td>\n",
       "      <td>1.748518e+09</td>\n",
       "      <td>83785.289062</td>\n",
       "      <td>7.057959e+09</td>\n",
       "      <td>145</td>\n",
       "    </tr>\n",
       "    <tr>\n",
       "      <th>146</th>\n",
       "      <td>33335.546875</td>\n",
       "      <td>1.706539e+09</td>\n",
       "      <td>86356.601562</td>\n",
       "      <td>7.495068e+09</td>\n",
       "      <td>146</td>\n",
       "    </tr>\n",
       "  </tbody>\n",
       "</table>\n",
       "</div>"
      ],
      "text/plain": [
       "             loss           mse      val_loss       val_mse  epoch\n",
       "142  35976.433594  1.924887e+09  76405.187500  5.876848e+09    142\n",
       "143  35073.238281  1.858622e+09  78803.148438  6.248665e+09    143\n",
       "144  34508.703125  1.799506e+09  81265.414062  6.642426e+09    144\n",
       "145  33928.914062  1.748518e+09  83785.289062  7.057959e+09    145\n",
       "146  33335.546875  1.706539e+09  86356.601562  7.495068e+09    146"
      ]
     },
     "execution_count": 16,
     "metadata": {},
     "output_type": "execute_result"
    }
   ],
   "source": [
    "hist = pd.DataFrame(history.history)\n",
    "hist['epoch'] = history.epoch\n",
    "\n",
    "#Show last Epoch matrics result\n",
    "hist.tail()"
   ]
  },
  {
   "cell_type": "code",
   "execution_count": 21,
   "metadata": {},
   "outputs": [],
   "source": [
    "def ploting_history(history):\n",
    "\n",
    "    plt.figure(figsize=(14,8))\n",
    "    plt.xlabel('Epoch')\n",
    "    plt.ylabel('Mean Abs Error (Target)')\n",
    "    plt.plot(hist['epoch'], hist['loss'], label='Train Error')\n",
    "    plt.plot(hist['epoch'], hist['val_loss'], label='Val Error')\n",
    "    plt.legend()\n",
    "    # plt.ylim([0, 5])\n",
    "\n",
    "    plt.figure(figsize=(14,8))\n",
    "    plt.xlabel('Epoch')\n",
    "    plt.ylabel('Mean Square Error (Target^2)')\n",
    "    plt.plot(hist['epoch'], hist['mse'], label='Train Error')\n",
    "    plt.plot(hist['epoch'], hist['val_mse'], label='Val Error')\n",
    "    plt.legend()\n",
    "    # plt.ylim([0, 20])"
   ]
  },
  {
   "cell_type": "code",
   "execution_count": 22,
   "metadata": {},
   "outputs": [
    {
     "data": {
      "image/png": "[encoded data removed]",
      "text/plain": [
       "<Figure size 1008x576 with 1 Axes>"
      ]
     },
     "metadata": {
      "needs_background": "light"
     },
     "output_type": "display_data"
    },
    {
     "data": {
      "image/png": "[encoded data removed]",
      "text/plain": [
       "<Figure size 1008x576 with 1 Axes>"
      ]
     },
     "metadata": {
      "needs_background": "light"
     },
     "output_type": "display_data"
    }
   ],
   "source": [
    "ploting_history(history)"
   ]
  },
  {
   "cell_type": "markdown",
   "metadata": {},
   "source": [
    "<h2> Checking Evaluation metrics model"
   ]
  },
  {
   "cell_type": "code",
   "execution_count": null,
   "metadata": {},
   "outputs": [],
   "source": [
    "model.evaluate(test_data, test_labels, verbose=0)\n",
    "#     print(\"Test Set Mean Abs Error : {:5.2f} Comodity in ton\".format(mae))"
   ]
  },
  {
   "cell_type": "markdown",
   "metadata": {},
   "source": [
    "<h2> Predicting Test data"
   ]
  },
  {
   "cell_type": "code",
   "execution_count": 11,
   "metadata": {},
   "outputs": [
    {
     "data": {
      "text/html": [
       "<div>\n",
       "<style scoped>\n",
       "    .dataframe tbody tr th:only-of-type {\n",
       "        vertical-align: middle;\n",
       "    }\n",
       "\n",
       "    .dataframe tbody tr th {\n",
       "        vertical-align: top;\n",
       "    }\n",
       "\n",
       "    .dataframe thead th {\n",
       "        text-align: right;\n",
       "    }\n",
       "</style>\n",
       "<table border=\"1\" class=\"dataframe\">\n",
       "  <thead>\n",
       "    <tr style=\"text-align: right;\">\n",
       "      <th></th>\n",
       "      <th>Prediction</th>\n",
       "      <th>Actual</th>\n",
       "      <th>error</th>\n",
       "    </tr>\n",
       "  </thead>\n",
       "  <tbody>\n",
       "    <tr>\n",
       "      <th>0</th>\n",
       "      <td>797749.2500</td>\n",
       "      <td>946224</td>\n",
       "      <td>0.186117</td>\n",
       "    </tr>\n",
       "    <tr>\n",
       "      <th>1</th>\n",
       "      <td>875550.0625</td>\n",
       "      <td>921824</td>\n",
       "      <td>0.052851</td>\n",
       "    </tr>\n",
       "    <tr>\n",
       "      <th>2</th>\n",
       "      <td>873597.4375</td>\n",
       "      <td>919573</td>\n",
       "      <td>0.052628</td>\n",
       "    </tr>\n",
       "    <tr>\n",
       "      <th>3</th>\n",
       "      <td>885484.2500</td>\n",
       "      <td>945136</td>\n",
       "      <td>0.067366</td>\n",
       "    </tr>\n",
       "  </tbody>\n",
       "</table>\n",
       "</div>"
      ],
      "text/plain": [
       "    Prediction  Actual     error\n",
       "0  797749.2500  946224  0.186117\n",
       "1  875550.0625  921824  0.052851\n",
       "2  873597.4375  919573  0.052628\n",
       "3  885484.2500  945136  0.067366"
      ]
     },
     "execution_count": 11,
     "metadata": {},
     "output_type": "execute_result"
    }
   ],
   "source": [
    "predict = model.predict(test_data).flatten()\n",
    "\n",
    "predict = pd.DataFrame(list(zip(predict, test_labels.tolist())), \n",
    "               columns =['Prediction','Actual'])\n",
    "\n",
    "predict['error'] = (abs(predict['Actual'] - predict['Prediction'])/\n",
    "                               predict['Prediction'])\n",
    "predict"
   ]
  },
  {
   "cell_type": "code",
   "execution_count": 12,
   "metadata": {},
   "outputs": [
    {
     "ename": "NameError",
     "evalue": "name 'predicted_vs_actual' is not defined",
     "output_type": "error",
     "traceback": [
      "\u001b[0;31m---------------------------------------------------------------------------\u001b[0m",
      "\u001b[0;31mNameError\u001b[0m                                 Traceback (most recent call last)",
      "\u001b[0;32m<ipython-input-12-ebe5ad3e229b>\u001b[0m in \u001b[0;36m<module>\u001b[0;34m\u001b[0m\n\u001b[0;32m----> 1\u001b[0;31m \u001b[0mprint\u001b[0m\u001b[0;34m(\u001b[0m\u001b[0mpredicted_vs_actual\u001b[0m\u001b[0;34m.\u001b[0m\u001b[0merror\u001b[0m\u001b[0;34m.\u001b[0m\u001b[0mmean\u001b[0m\u001b[0;34m(\u001b[0m\u001b[0;34m)\u001b[0m\u001b[0;34m)\u001b[0m\u001b[0;34m\u001b[0m\u001b[0;34m\u001b[0m\u001b[0m\n\u001b[0m",
      "\u001b[0;31mNameError\u001b[0m: name 'predicted_vs_actual' is not defined"
     ]
    }
   ],
   "source": [
    "print(predict.error.mean())"
   ]
  },
  {
   "cell_type": "code",
   "execution_count": null,
   "metadata": {},
   "outputs": [],
   "source": [
    "__, mae, __ = model.evaluate(test_data, test_labels, verbose=0)\n",
    "print(\"Test Set Mean Abs Error : {:5.2f} Comodity in ton\".format(mae))"
   ]
  }
 ],
 "metadata": {
  "file_extension": ".py",
  "kernelspec": {
   "display_name": "Python 3",
   "language": "python",
   "name": "python3"
  },
  "language_info": {
   "codemirror_mode": {
    "name": "ipython",
    "version": 3
   },
   "file_extension": ".py",
   "mimetype": "text/x-python",
   "name": "python",
   "nbconvert_exporter": "python",
   "pygments_lexer": "ipython3",
   "version": "3.7.7"
  },
  "mimetype": "text/x-python",
  "name": "python",
  "npconvert_exporter": "python",
  "pygments_lexer": "ipython3",
  "version": 3
 },
 "nbformat": 4,
 "nbformat_minor": 2
}
