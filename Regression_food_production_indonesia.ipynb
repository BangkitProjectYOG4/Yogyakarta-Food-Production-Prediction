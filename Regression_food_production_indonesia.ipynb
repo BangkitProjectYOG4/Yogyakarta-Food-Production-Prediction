{
 "cells": [
  {
   "cell_type": "markdown",
   "metadata": {
    "colab_type": "text",
    "id": "QFP5sOoz7lG1"
   },
   "source": [
    "**Regression of Food Production(Paddy) production in Indonesia**\n",
    "\n",
    "1. Kind of Food Production : Paddy\n",
    "2. Region Production     : Central Java "
   ]
  },
  {
   "cell_type": "markdown",
   "metadata": {
    "colab_type": "text",
    "id": "rPYjAmJK8lG5"
   },
   "source": [
    "## Import relevant modules"
   ]
  },
  {
   "cell_type": "code",
   "execution_count": 1,
   "metadata": {
    "colab": {
     "base_uri": "https://localhost:8080/",
     "height": 35
    },
    "colab_type": "code",
    "executionInfo": {
     "elapsed": 3921,
     "status": "ok",
     "timestamp": 1585141212086,
     "user": {
      "displayName": "Reza Anugrah Prakasa",
      "photoUrl": "https://lh3.googleusercontent.com/a-/AOh14GhSjgWB-5qbjXZKTT_5ZaPyNwnhb6KHuJazipF1tg=s64",
      "userId": "07378119797188039059"
     },
     "user_tz": -420
    },
    "id": "Yh1C6RDF6RM6",
    "outputId": "4fc099a8-5314-4945-9ae4-4ab913f48fa0"
   },
   "outputs": [
    {
     "name": "stderr",
     "output_type": "stream",
     "text": [
      "UsageError: Line magic function `%tensorflow_version` not found.\n"
     ]
    }
   ],
   "source": [
    "import pandas as pd\n",
    "import numpy as np\n",
    "from matplotlib import pyplot as plt\n",
    "from sklearn.linear_model import Ridge, Lasso\n",
    "from sklearn.model_selection import train_test_split\n",
    "from sklearn.metrics import r2_score, mean_squared_error\n",
    "\n",
    "%tensorflow_version 2.x\n",
    "import tensorflow as tf\n",
    "\n"
   ]
  },
  {
   "cell_type": "markdown",
   "metadata": {
    "colab_type": "text",
    "id": "2YdiimAF8o4I"
   },
   "source": [
    "## Load Dataset"
   ]
  },
  {
   "cell_type": "markdown",
   "metadata": {
    "colab_type": "text",
    "id": "-vhQvl2C9FLP"
   },
   "source": [
    "### Select Central Java Paddy production to make regression\n",
    "\n",
    "Note : Production values in ton( weight unit of measure)"
   ]
  },
  {
   "cell_type": "code",
   "execution_count": 2,
   "metadata": {
    "colab": {
     "base_uri": "https://localhost:8080/",
     "height": 257
    },
    "colab_type": "code",
    "executionInfo": {
     "elapsed": 3817,
     "status": "ok",
     "timestamp": 1585141212102,
     "user": {
      "displayName": "Reza Anugrah Prakasa",
      "photoUrl": "https://lh3.googleusercontent.com/a-/AOh14GhSjgWB-5qbjXZKTT_5ZaPyNwnhb6KHuJazipF1tg=s64",
      "userId": "07378119797188039059"
     },
     "user_tz": -420
    },
    "id": "YasvoJqQwQgS",
    "outputId": "ccb5b871-2e3f-4395-ba54-84e0839ca62b"
   },
   "outputs": [
    {
     "data": {
      "text/html": [
       "<div>\n",
       "<style scoped>\n",
       "    .dataframe tbody tr th:only-of-type {\n",
       "        vertical-align: middle;\n",
       "    }\n",
       "\n",
       "    .dataframe tbody tr th {\n",
       "        vertical-align: top;\n",
       "    }\n",
       "\n",
       "    .dataframe thead th {\n",
       "        text-align: right;\n",
       "    }\n",
       "</style>\n",
       "<table border=\"1\" class=\"dataframe\">\n",
       "  <thead>\n",
       "    <tr style=\"text-align: right;\">\n",
       "      <th></th>\n",
       "      <th>Years</th>\n",
       "      <th>Comodition_in_Ton</th>\n",
       "    </tr>\n",
       "  </thead>\n",
       "  <tbody>\n",
       "    <tr>\n",
       "      <th>0</th>\n",
       "      <td>1993</td>\n",
       "      <td>644642</td>\n",
       "    </tr>\n",
       "    <tr>\n",
       "      <th>1</th>\n",
       "      <td>1994</td>\n",
       "      <td>643266</td>\n",
       "    </tr>\n",
       "    <tr>\n",
       "      <th>2</th>\n",
       "      <td>1995</td>\n",
       "      <td>642120</td>\n",
       "    </tr>\n",
       "    <tr>\n",
       "      <th>3</th>\n",
       "      <td>1996</td>\n",
       "      <td>661179</td>\n",
       "    </tr>\n",
       "    <tr>\n",
       "      <th>4</th>\n",
       "      <td>1997</td>\n",
       "      <td>647198</td>\n",
       "    </tr>\n",
       "  </tbody>\n",
       "</table>\n",
       "</div>"
      ],
      "text/plain": [
       "   Years  Comodition_in_Ton\n",
       "0   1993             644642\n",
       "1   1994             643266\n",
       "2   1995             642120\n",
       "3   1996             661179\n",
       "4   1997             647198"
      ]
     },
     "execution_count": 2,
     "metadata": {},
     "output_type": "execute_result"
    }
   ],
   "source": [
    "data_paddy = pd.read_csv('data/padi.csv')\n",
    "data_paddy_central_java = data_paddy[data_paddy['Provinsi']==\"DI YOGYAKARTA\"]\n",
    "data_paddy_central_java = data_paddy_central_java.drop(columns='Provinsi')\n",
    "data_paddy_central_java = data_paddy_central_java.T\n",
    "data_paddy_central_java = data_paddy_central_java.reset_index()\n",
    "data_paddy_central_java = data_paddy_central_java.rename(columns={\"index\":\"Years\",13:\"Comodition_in_Ton\"})\n",
    "data_paddy_central_java = data_paddy_central_java[['Years', 'Comodition_in_Ton']].apply(pd.to_numeric)\n",
    "data_paddy_central_java.head()"
   ]
  },
  {
   "cell_type": "code",
   "execution_count": 3,
   "metadata": {
    "colab": {},
    "colab_type": "code",
    "id": "j7AYePNF9ECT"
   },
   "outputs": [
    {
     "data": {
      "text/html": [
       "<div>\n",
       "<style scoped>\n",
       "    .dataframe tbody tr th:only-of-type {\n",
       "        vertical-align: middle;\n",
       "    }\n",
       "\n",
       "    .dataframe tbody tr th {\n",
       "        vertical-align: top;\n",
       "    }\n",
       "\n",
       "    .dataframe thead th {\n",
       "        text-align: right;\n",
       "    }\n",
       "</style>\n",
       "<table border=\"1\" class=\"dataframe\">\n",
       "  <thead>\n",
       "    <tr style=\"text-align: right;\">\n",
       "      <th></th>\n",
       "      <th>0</th>\n",
       "      <th>1</th>\n",
       "      <th>2</th>\n",
       "    </tr>\n",
       "  </thead>\n",
       "  <tbody>\n",
       "    <tr>\n",
       "      <th>0</th>\n",
       "      <td>644642</td>\n",
       "      <td>643266</td>\n",
       "      <td>642120</td>\n",
       "    </tr>\n",
       "    <tr>\n",
       "      <th>1</th>\n",
       "      <td>643266</td>\n",
       "      <td>642120</td>\n",
       "      <td>661179</td>\n",
       "    </tr>\n",
       "    <tr>\n",
       "      <th>2</th>\n",
       "      <td>642120</td>\n",
       "      <td>661179</td>\n",
       "      <td>647198</td>\n",
       "    </tr>\n",
       "    <tr>\n",
       "      <th>3</th>\n",
       "      <td>661179</td>\n",
       "      <td>647198</td>\n",
       "      <td>621605</td>\n",
       "    </tr>\n",
       "    <tr>\n",
       "      <th>4</th>\n",
       "      <td>647198</td>\n",
       "      <td>621605</td>\n",
       "      <td>612393</td>\n",
       "    </tr>\n",
       "    <tr>\n",
       "      <th>5</th>\n",
       "      <td>621605</td>\n",
       "      <td>612393</td>\n",
       "      <td>654289</td>\n",
       "    </tr>\n",
       "    <tr>\n",
       "      <th>6</th>\n",
       "      <td>612393</td>\n",
       "      <td>654289</td>\n",
       "      <td>661802</td>\n",
       "    </tr>\n",
       "    <tr>\n",
       "      <th>7</th>\n",
       "      <td>654289</td>\n",
       "      <td>661802</td>\n",
       "      <td>653577</td>\n",
       "    </tr>\n",
       "    <tr>\n",
       "      <th>8</th>\n",
       "      <td>661802</td>\n",
       "      <td>653577</td>\n",
       "      <td>652280</td>\n",
       "    </tr>\n",
       "    <tr>\n",
       "      <th>9</th>\n",
       "      <td>653577</td>\n",
       "      <td>652280</td>\n",
       "      <td>692998</td>\n",
       "    </tr>\n",
       "    <tr>\n",
       "      <th>10</th>\n",
       "      <td>652280</td>\n",
       "      <td>692998</td>\n",
       "      <td>670703</td>\n",
       "    </tr>\n",
       "    <tr>\n",
       "      <th>11</th>\n",
       "      <td>692998</td>\n",
       "      <td>670703</td>\n",
       "      <td>708163</td>\n",
       "    </tr>\n",
       "    <tr>\n",
       "      <th>12</th>\n",
       "      <td>670703</td>\n",
       "      <td>708163</td>\n",
       "      <td>709294</td>\n",
       "    </tr>\n",
       "    <tr>\n",
       "      <th>13</th>\n",
       "      <td>708163</td>\n",
       "      <td>709294</td>\n",
       "      <td>798232</td>\n",
       "    </tr>\n",
       "    <tr>\n",
       "      <th>14</th>\n",
       "      <td>709294</td>\n",
       "      <td>798232</td>\n",
       "      <td>837930</td>\n",
       "    </tr>\n",
       "    <tr>\n",
       "      <th>15</th>\n",
       "      <td>798232</td>\n",
       "      <td>837930</td>\n",
       "      <td>823887</td>\n",
       "    </tr>\n",
       "    <tr>\n",
       "      <th>16</th>\n",
       "      <td>837930</td>\n",
       "      <td>823887</td>\n",
       "      <td>842934</td>\n",
       "    </tr>\n",
       "    <tr>\n",
       "      <th>17</th>\n",
       "      <td>823887</td>\n",
       "      <td>842934</td>\n",
       "      <td>946224</td>\n",
       "    </tr>\n",
       "    <tr>\n",
       "      <th>18</th>\n",
       "      <td>842934</td>\n",
       "      <td>946224</td>\n",
       "      <td>921824</td>\n",
       "    </tr>\n",
       "    <tr>\n",
       "      <th>19</th>\n",
       "      <td>946224</td>\n",
       "      <td>921824</td>\n",
       "      <td>919573</td>\n",
       "    </tr>\n",
       "  </tbody>\n",
       "</table>\n",
       "</div>"
      ],
      "text/plain": [
       "         0       1       2\n",
       "0   644642  643266  642120\n",
       "1   643266  642120  661179\n",
       "2   642120  661179  647198\n",
       "3   661179  647198  621605\n",
       "4   647198  621605  612393\n",
       "5   621605  612393  654289\n",
       "6   612393  654289  661802\n",
       "7   654289  661802  653577\n",
       "8   661802  653577  652280\n",
       "9   653577  652280  692998\n",
       "10  652280  692998  670703\n",
       "11  692998  670703  708163\n",
       "12  670703  708163  709294\n",
       "13  708163  709294  798232\n",
       "14  709294  798232  837930\n",
       "15  798232  837930  823887\n",
       "16  837930  823887  842934\n",
       "17  823887  842934  946224\n",
       "18  842934  946224  921824\n",
       "19  946224  921824  919573"
      ]
     },
     "execution_count": 3,
     "metadata": {},
     "output_type": "execute_result"
    }
   ],
   "source": [
    "data = pd.read_csv('data/preprocessed.csv')\n",
    "data.drop(data.columns[0], axis=True, inplace=True)\n",
    "data.iloc[:, :3]"
   ]
  },
  {
   "cell_type": "markdown",
   "metadata": {
    "colab_type": "text",
    "id": "j82iPVcw9W3V"
   },
   "source": [
    "# Modeling\n",
    "using feature from 1993 until 2013 to make model, will try to predict values at 2013, 2014, and 2015."
   ]
  },
  {
   "cell_type": "code",
   "execution_count": 4,
   "metadata": {
    "colab": {},
    "colab_type": "code",
    "id": "3_twsleW9Ui7"
   },
   "outputs": [],
   "source": [
    "X_train, X_test, y_train, y_test = train_test_split(data.iloc[:, :3].values, data.iloc[:, -1].values, test_size=0.14, random_state=42,shuffle=False)"
   ]
  },
  {
   "cell_type": "code",
   "execution_count": 5,
   "metadata": {
    "colab": {
     "base_uri": "https://localhost:8080/",
     "height": 69
    },
    "colab_type": "code",
    "executionInfo": {
     "elapsed": 3448,
     "status": "ok",
     "timestamp": 1585141212171,
     "user": {
      "displayName": "Reza Anugrah Prakasa",
      "photoUrl": "https://lh3.googleusercontent.com/a-/AOh14GhSjgWB-5qbjXZKTT_5ZaPyNwnhb6KHuJazipF1tg=s64",
      "userId": "07378119797188039059"
     },
     "user_tz": -420
    },
    "id": "L2UzNewDQ_PB",
    "outputId": "af071b01-6416-4f70-eb11-a09f49a85b84"
   },
   "outputs": [
    {
     "name": "stdout",
     "output_type": "stream",
     "text": [
      "r2:  -43.521\n",
      "mse:  5945921439.154\n"
     ]
    }
   ],
   "source": [
    "model = Ridge()\n",
    "# model = Lasso()\n",
    "\n",
    "model.fit(X_train,y_train)\n",
    "result = model.predict(X_test)\n",
    "result_rounded = [round(num, 1) for num in result]\n",
    "\n",
    "# result_and_real = pd.concat(X_test,result,y_test)\n",
    "# result_and_real\n",
    "\n",
    "print('r2: ', round(r2_score(y_test, result),3))\n",
    "print('mse: ', round(mean_squared_error(y_test, result),3))\n",
    "# print('rmse: ', round(mean_squared_error(y_test, result, squared=False),3))"
   ]
  },
  {
   "cell_type": "code",
   "execution_count": 6,
   "metadata": {
    "colab": {
     "base_uri": "https://localhost:8080/",
     "height": 171
    },
    "colab_type": "code",
    "executionInfo": {
     "elapsed": 3288,
     "status": "ok",
     "timestamp": 1585141212185,
     "user": {
      "displayName": "Reza Anugrah Prakasa",
      "photoUrl": "https://lh3.googleusercontent.com/a-/AOh14GhSjgWB-5qbjXZKTT_5ZaPyNwnhb6KHuJazipF1tg=s64",
      "userId": "07378119797188039059"
     },
     "user_tz": -420
    },
    "id": "Q0pu88NscinC",
    "outputId": "76e3ebd3-961e-45d5-dc2d-9351a599b0b3"
   },
   "outputs": [
    {
     "data": {
      "text/html": [
       "<div>\n",
       "<style scoped>\n",
       "    .dataframe tbody tr th:only-of-type {\n",
       "        vertical-align: middle;\n",
       "    }\n",
       "\n",
       "    .dataframe tbody tr th {\n",
       "        vertical-align: top;\n",
       "    }\n",
       "\n",
       "    .dataframe thead th {\n",
       "        text-align: right;\n",
       "    }\n",
       "</style>\n",
       "<table border=\"1\" class=\"dataframe\">\n",
       "  <thead>\n",
       "    <tr style=\"text-align: right;\">\n",
       "      <th></th>\n",
       "      <th>Data</th>\n",
       "      <th>Prediction</th>\n",
       "      <th>Actual</th>\n",
       "    </tr>\n",
       "  </thead>\n",
       "  <tbody>\n",
       "    <tr>\n",
       "      <th>0</th>\n",
       "      <td>[823887, 842934, 946224]</td>\n",
       "      <td>999893.1</td>\n",
       "      <td>921824</td>\n",
       "    </tr>\n",
       "    <tr>\n",
       "      <th>1</th>\n",
       "      <td>[842934, 946224, 921824]</td>\n",
       "      <td>978476.3</td>\n",
       "      <td>919573</td>\n",
       "    </tr>\n",
       "    <tr>\n",
       "      <th>2</th>\n",
       "      <td>[946224, 921824, 919573]</td>\n",
       "      <td>1036094.1</td>\n",
       "      <td>945136</td>\n",
       "    </tr>\n",
       "  </tbody>\n",
       "</table>\n",
       "</div>"
      ],
      "text/plain": [
       "                       Data  Prediction  Actual\n",
       "0  [823887, 842934, 946224]    999893.1  921824\n",
       "1  [842934, 946224, 921824]    978476.3  919573\n",
       "2  [946224, 921824, 919573]   1036094.1  945136"
      ]
     },
     "execution_count": 6,
     "metadata": {},
     "output_type": "execute_result"
    }
   ],
   "source": [
    "Real_n_result = pd.DataFrame(list(zip(X_test.tolist(), result_rounded, y_test.tolist())), \n",
    "               columns =['Data', 'Prediction','Actual'])\n",
    "\n",
    "Real_n_result"
   ]
  },
  {
   "cell_type": "code",
   "execution_count": 7,
   "metadata": {
    "colab": {
     "base_uri": "https://localhost:8080/",
     "height": 290
    },
    "colab_type": "code",
    "executionInfo": {
     "elapsed": 3170,
     "status": "ok",
     "timestamp": 1585141212198,
     "user": {
      "displayName": "Reza Anugrah Prakasa",
      "photoUrl": "https://lh3.googleusercontent.com/a-/AOh14GhSjgWB-5qbjXZKTT_5ZaPyNwnhb6KHuJazipF1tg=s64",
      "userId": "07378119797188039059"
     },
     "user_tz": -420
    },
    "id": "BIBBzUcJSewm",
    "outputId": "9cdbc87c-3063-4d58-a947-33f9b75c8e0d"
   },
   "outputs": [
    {
     "data": {
      "image/png": "[encoded data removed]",
      "text/plain": [
       "<Figure size 1152x648 with 1 Axes>"
      ]
     },
     "metadata": {
      "needs_background": "light"
     },
     "output_type": "display_data"
    }
   ],
   "source": [
    "pred = data_paddy_central_java.rename(columns={\"Comodition_in_Ton\":'predict'}).iloc[-3:, :]\n",
    "pred['predict'] = result_rounded\n",
    "fig = plt.figure(figsize=(16,9))\n",
    "plt.grid()\n",
    "plt.plot(data_paddy_central_java['Years'], \n",
    "         data_paddy_central_java['Comodition_in_Ton'], \n",
    "#          kind='scatter',\n",
    "         'bo')\n",
    "\n",
    "plt.plot(pred['Years'], \n",
    "         pred['predict'], \n",
    "#          kind='scatter',\n",
    "         'ro')\n",
    "\n",
    "plt.show()"
   ]
  },
  {
   "cell_type": "code",
   "execution_count": null,
   "metadata": {},
   "outputs": [],
   "source": []
  }
 ],
 "metadata": {
  "colab": {
   "authorship_tag": "ABX9TyPSL68qwhUWvtJjn+eTBQlR",
   "collapsed_sections": [],
   "name": "Regression_food_production_indonesia.ipynb",
   "provenance": [],
   "toc_visible": true
  },
  "kernelspec": {
   "display_name": "Python 3",
   "language": "python",
   "name": "python3"
  },
  "language_info": {
   "codemirror_mode": {
    "name": "ipython",
    "version": 3
   },
   "file_extension": ".py",
   "mimetype": "text/x-python",
   "name": "python",
   "nbconvert_exporter": "python",
   "pygments_lexer": "ipython3",
   "version": "3.7.3"
  }
 },
 "nbformat": 4,
 "nbformat_minor": 1
}
